{
 "cells": [
  {
   "cell_type": "code",
   "execution_count": null,
   "metadata": {},
   "outputs": [],
   "source": [
    "from collections import defaultdict\n",
    "import json\n",
    "from itertools import chain\n",
    "import os\n",
    "import logging\n",
    "import sys\n",
    "from pathlib import Path\n",
    "import re\n",
    "from typing import Dict, List, NamedTuple, Tuple\n",
    "\n",
    "import django\n",
    "from django.db.models import Model, QuerySet\n",
    "from django.db.models.signals import post_save\n",
    "from django.db import transaction\n",
    "import pandas as pd"
   ]
  },
  {
   "cell_type": "code",
   "execution_count": null,
   "metadata": {},
   "outputs": [],
   "source": [
    "from pathlib import Path\n",
    "from typing import Dict\n",
    "from typing import List, NamedTuple\n",
    "\n",
    "import pandas as pd\n",
    "from openpyxl import load_workbook"
   ]
  },
  {
   "cell_type": "code",
   "execution_count": null,
   "metadata": {},
   "outputs": [],
   "source": [
    "ROOT = Path('~/dev/temp/hawc-pfas/project').expanduser()\n",
    "sys.path.append(ROOT)\n",
    "os.chdir(ROOT)\n",
    "\n",
    "os.environ[\"DJANGO_SETTINGS_MODULE\"] = \"hawc.settings.local\"\n",
    "django.setup()\n",
    "logger = logging.getLogger(__name__)"
   ]
  },
  {
   "cell_type": "code",
   "execution_count": null,
   "metadata": {},
   "outputs": [],
   "source": [
    "from summary.models import DataPivotQuery, Visual\n",
    "from study.models import Study"
   ]
  },
  {
   "cell_type": "code",
   "execution_count": null,
   "metadata": {},
   "outputs": [],
   "source": [
    "assessment_id = 100000026\n",
    "dp_mapping = {\n",
    "    el['slug']: el['id'] for el in\n",
    "    DataPivotQuery.objects.filter(assessment_id=assessment_id).values('id', 'slug')\n",
    "}"
   ]
  },
  {
   "cell_type": "code",
   "execution_count": null,
   "metadata": {},
   "outputs": [],
   "source": [
    "class ImportData(NamedTuple):\n",
    "    chem: str\n",
    "    studies: List[str]\n",
    "    visuals: List[str]\n",
    "    data_pivots: List[str]"
   ]
  },
  {
   "cell_type": "code",
   "execution_count": null,
   "metadata": {},
   "outputs": [],
   "source": [
    "def get_import_data(fn: str, ws: str, chem_rng: str, studies_rng: List[str], viz_rng: List[str]) -> Dict:\n",
    "    wb = load_workbook(filename=fn, read_only=True)\n",
    "    ws = wb[ws]\n",
    "    \n",
    "    chem = ws[chem_rng].value\n",
    "    \n",
    "    studies = []\n",
    "    for study in studies_rng:\n",
    "        studies.extend([cell[0].value for cell in ws[study]])        \n",
    "    \n",
    "    regex = re.compile(r'/study/(\\d+)/')\n",
    "    studies = list(set([int(regex.findall(url)[0]) for url in studies]))\n",
    "    \n",
    "    studies_found = list(\n",
    "        Study.objects.filter(assessment_id=assessment_id, id__in=studies).values_list('id', flat=True)\n",
    "    )\n",
    "    if len(studies_found) != len(studies):\n",
    "        for study in (set(studies) - set(studies_found)):\n",
    "            print(f'Missing study: https://hawcprd.epa.gov/study/{study}/')                   \n",
    "    studies = sorted(studies_found)\n",
    "    \n",
    "    visuals = []\n",
    "    for visual in viz_rng:\n",
    "        visuals.extend([cell[0].value for cell in ws[visual]])    \n",
    "                \n",
    "    viz = [el for el in visuals if '/visual/' in el]\n",
    "    regex = re.compile(r'/summary/visual/(\\d+)/')\n",
    "    viz = list(set([int(regex.findall(url)[0]) for url in viz]))\n",
    "        \n",
    "    viz_found = list(\n",
    "        Visual.objects.filter(assessment_id=assessment_id, id__in=viz).values_list('id', flat=True)\n",
    "    )\n",
    "    if len(viz_found) != len(viz):\n",
    "        for v in (set(viz) - set(viz_found)):\n",
    "            print(f'Missing visual: https://hawcprd.epa.gov/summary/visual/{v}/')                   \n",
    "    viz = sorted(viz_found)\n",
    "    \n",
    "    \n",
    "    dp = [el for el in visuals if '/data-pivot/' in el]\n",
    "    regex = re.compile(rf'/summary/data-pivot/assessment/{assessment_id}/(.+)/')\n",
    "    slugs = [regex.findall(url)[0] for url in dp]\n",
    "    dp_ids = [dp_mapping.get(slug, -1) for slug in slugs]\n",
    "    for id_, slug in zip(dp_ids, slugs):\n",
    "        if id_ == -1:\n",
    "            print(f'Missing data pivot: https://hawcprd.epa.gov/summary/data-pivot/assessment/{assessment_id}/{slug}/')                       \n",
    "            \n",
    "    dp_ids = sorted(list(set([dp_id for dp_id in dp_ids if dp_id>0])))\n",
    "    \n",
    "    \n",
    "    wb.close()\n",
    "    return ImportData(chem=chem, studies=studies, visuals=viz, data_pivots=dp_ids)"
   ]
  },
  {
   "cell_type": "code",
   "execution_count": null,
   "metadata": {},
   "outputs": [],
   "source": [
    "pfhxa = get_import_data(\n",
    "    Path('~/Desktop/tofile/pfas-migrations/PFHxA HAWC migration MA 191209 v2.xlsx').expanduser(), \n",
    "    \"Sheet1\", \n",
    "    \"E2\", \n",
    "    studies_rng=[\"A2:A34\"], \n",
    "    viz_rng=[\"C2:C34\"]\n",
    ")\n",
    "pfhxa"
   ]
  },
  {
   "cell_type": "code",
   "execution_count": null,
   "metadata": {},
   "outputs": [],
   "source": [
    "pfna = get_import_data(\n",
    "    Path('~/Desktop/tofile/pfas-migrations/PFNA MIGRATION TEMPLATE FOR ANDY SHAPIRO_MT-ER.xlsx').expanduser(), \n",
    "    \"Sheet1\", \n",
    "    \"E2\", \n",
    "    studies_rng=[\"A3:A33\", \"A36:A38\", \"A41:A244\"], \n",
    "    viz_rng=[\"C3:C14\", \"C17:C24\", \"C27:C35\", \"C38:C38\"]\n",
    ")\n",
    "pfna"
   ]
  },
  {
   "cell_type": "code",
   "execution_count": null,
   "metadata": {},
   "outputs": [],
   "source": [
    "pfda = get_import_data(\n",
    "    Path('~/Desktop/tofile/pfas-migrations/PFDA HAWC data migration_v2.xlsx').expanduser(), \n",
    "    \"Sheet1\", \n",
    "    \"E2\", \n",
    "    studies_rng=[\"A3:A23\", \"A27:A145\"], \n",
    "    viz_rng=[\"C2:C68\"]\n",
    ")\n",
    "pfda"
   ]
  },
  {
   "cell_type": "code",
   "execution_count": null,
   "metadata": {},
   "outputs": [],
   "source": [
    "pfba = get_import_data(\n",
    "    Path('~/Desktop/tofile/pfas-migrations/PFBA MIGRATION TEMPLATE FOR ANDY SHAPIRO_MT draft.xlsx').expanduser(), \n",
    "    \"Sheet1\", \n",
    "    \"E2\", \n",
    "    studies_rng=[\"A3:A10\",\"A17:A25\"], \n",
    "    viz_rng=[\"C2:C36\", \"C41:C42\", \"C47:C47\"]\n",
    ")\n",
    "pfba"
   ]
  },
  {
   "cell_type": "code",
   "execution_count": null,
   "metadata": {},
   "outputs": [],
   "source": [
    "pfhxs = get_import_data(\n",
    "    Path('~/Desktop/tofile/pfas-migrations/HAWC Migration.xlsx').expanduser(), \n",
    "    \"Sheet1\", \n",
    "    \"E2\", \n",
    "    studies_rng=[\"A2:A204\"], \n",
    "    viz_rng=[\"C2:C25\", \"C28:C31\", \"C33:C40\"]\n",
    ")\n",
    "pfhxs"
   ]
  },
  {
   "cell_type": "code",
   "execution_count": null,
   "metadata": {},
   "outputs": [],
   "source": []
  }
 ],
 "metadata": {
  "kernelspec": {
   "display_name": "Python 3",
   "language": "python",
   "name": "python3"
  },
  "language_info": {
   "codemirror_mode": {
    "name": "ipython",
    "version": 3
   },
   "file_extension": ".py",
   "mimetype": "text/x-python",
   "name": "python",
   "nbconvert_exporter": "python",
   "pygments_lexer": "ipython3",
   "version": "3.6.5"
  }
 },
 "nbformat": 4,
 "nbformat_minor": 2
}
