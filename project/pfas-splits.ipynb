{
 "cells": [
  {
   "cell_type": "code",
   "execution_count": null,
   "metadata": {},
   "outputs": [],
   "source": [
    "from collections import defaultdict\n",
    "import json\n",
    "from itertools import chain\n",
    "import os\n",
    "import logging\n",
    "import sys\n",
    "from pathlib import Path\n",
    "import re\n",
    "from typing import Dict, List, NamedTuple, Tuple\n",
    "\n",
    "import django\n",
    "from django.db.models import Model, QuerySet\n",
    "from django.db.models.signals import post_save\n",
    "from django.db import transaction\n",
    "import pandas as pd"
   ]
  },
  {
   "cell_type": "code",
   "execution_count": null,
   "metadata": {},
   "outputs": [],
   "source": [
    "from pathlib import Path\n",
    "from typing import Dict\n",
    "from typing import List, NamedTuple\n",
    "\n",
    "import pandas as pd\n",
    "from openpyxl import load_workbook"
   ]
  },
  {
   "cell_type": "code",
   "execution_count": null,
   "metadata": {},
   "outputs": [],
   "source": [
    "ROOT = Path('~/dev/temp/hawc-pfas/project').expanduser()\n",
    "sys.path.append(str(ROOT))\n",
    "os.chdir(ROOT)\n",
    "\n",
    "os.environ[\"DJANGO_SETTINGS_MODULE\"] = \"hawc.settings.local\"\n",
    "django.setup()\n",
    "logger = logging.getLogger(__name__)"
   ]
  },
  {
   "cell_type": "code",
   "execution_count": null,
   "metadata": {},
   "outputs": [],
   "source": [
    "from summary.models import DataPivotQuery, Visual\n",
    "from study.models import Study"
   ]
  },
  {
   "cell_type": "code",
   "execution_count": null,
   "metadata": {},
   "outputs": [],
   "source": [
    "assessment_id = 100000026\n",
    "dp_mapping = {\n",
    "    el['slug']: el['id'] for el in\n",
    "    DataPivotQuery.objects.filter(assessment_id=assessment_id).values('id', 'slug')\n",
    "}"
   ]
  },
  {
   "cell_type": "code",
   "execution_count": null,
   "metadata": {},
   "outputs": [],
   "source": [
    "class ImportData(NamedTuple):\n",
    "    chem: str\n",
    "    studies: List[str]\n",
    "    visuals: List[str]\n",
    "    data_pivots: List[str]"
   ]
  },
  {
   "cell_type": "code",
   "execution_count": null,
   "metadata": {},
   "outputs": [],
   "source": [
    "def get_import_data(fn: str, ws: str, chem_rng: str, studies_rng: List[str], viz_rng: List[str]) -> Dict:\n",
    "    wb = load_workbook(filename=fn, read_only=True)\n",
    "    ws = wb[ws]\n",
    "    \n",
    "    chem = ws[chem_rng].value\n",
    "    \n",
    "    studies = []\n",
    "    for study in studies_rng:\n",
    "        studies.extend([cell[0].value for cell in ws[study]])        \n",
    "    \n",
    "    regex = re.compile(r'/study/(\\d+)/')\n",
    "    studies = list(set([int(regex.findall(url)[0]) for url in studies]))\n",
    "    \n",
    "    studies_found = list(\n",
    "        Study.objects.filter(assessment_id=assessment_id, id__in=studies).values_list('id', flat=True)\n",
    "    )\n",
    "    if len(studies_found) != len(studies):\n",
    "        for study in (set(studies) - set(studies_found)):\n",
    "            print(f'Missing study: https://hawcprd.epa.gov/study/{study}/')                   \n",
    "    studies = sorted(studies_found)\n",
    "    \n",
    "    visuals = []\n",
    "    for visual in viz_rng:\n",
    "        visuals.extend([cell[0].value for cell in ws[visual]])    \n",
    "                \n",
    "    viz = [el for el in visuals if '/visual/' in el]\n",
    "    regex = re.compile(r'/summary/visual/(\\d+)/')\n",
    "    viz = list(set([int(regex.findall(url)[0]) for url in viz]))\n",
    "        \n",
    "    viz_found = list(\n",
    "        Visual.objects.filter(assessment_id=assessment_id, id__in=viz).values_list('id', flat=True)\n",
    "    )\n",
    "    if len(viz_found) != len(viz):\n",
    "        for v in (set(viz) - set(viz_found)):\n",
    "            print(f'Missing visual: https://hawcprd.epa.gov/summary/visual/{v}/')                   \n",
    "    viz = sorted(viz_found)\n",
    "    \n",
    "    \n",
    "    dp = [el for el in visuals if '/data-pivot/' in el]\n",
    "    regex = re.compile(rf'/summary/data-pivot/assessment/{assessment_id}/(.+)/')\n",
    "    slugs = [regex.findall(url)[0] for url in dp]\n",
    "    dp_ids = [dp_mapping.get(slug, -1) for slug in slugs]\n",
    "    for id_, slug in zip(dp_ids, slugs):\n",
    "        if id_ == -1:\n",
    "            print(f'Missing data pivot: https://hawcprd.epa.gov/summary/data-pivot/assessment/{assessment_id}/{slug}/')                       \n",
    "            \n",
    "    dp_ids = sorted(list(set([dp_id for dp_id in dp_ids if dp_id>0])))\n",
    "    \n",
    "    \n",
    "    wb.close()\n",
    "    return ImportData(chem=chem, studies=studies, visuals=viz, data_pivots=dp_ids)"
   ]
  },
  {
   "cell_type": "code",
   "execution_count": null,
   "metadata": {},
   "outputs": [],
   "source": [
    "pfhxa = get_import_data(\n",
    "    Path('~/Desktop/tofile/pfas-migrations/PFHxA HAWC migration MA 191209 v2.xlsx').expanduser(), \n",
    "    \"Sheet1\", \n",
    "    \"E2\", \n",
    "    studies_rng=[\"A2:A34\"], \n",
    "    viz_rng=[\"C2:C34\"]\n",
    ")\n",
    "pfhxa"
   ]
  },
  {
   "cell_type": "code",
   "execution_count": null,
   "metadata": {},
   "outputs": [],
   "source": [
    "pfna = get_import_data(\n",
    "    Path('~/Desktop/tofile/pfas-migrations/PFNA MIGRATION TEMPLATE FOR ANDY SHAPIRO_MT-ER.xlsx').expanduser(), \n",
    "    \"Sheet1\", \n",
    "    \"E2\", \n",
    "    studies_rng=[\"A3:A33\", \"A36:A38\", \"A41:A244\", \"A247:A256\"], \n",
    "    viz_rng=[\"C3:C14\", \"C17:C24\", \"C27:C35\", \"C38:C38\"]\n",
    ")\n",
    "pfna"
   ]
  },
  {
   "cell_type": "code",
   "execution_count": null,
   "metadata": {},
   "outputs": [],
   "source": [
    "pfda = get_import_data(\n",
    "    Path('~/Desktop/tofile/pfas-migrations/PFDA HAWC data migration_v2.xlsx').expanduser(), \n",
    "    \"Sheet1\", \n",
    "    \"E2\", \n",
    "    studies_rng=[\"A3:A23\", \"A27:A145\"], \n",
    "    viz_rng=[\"C2:C68\"]\n",
    ")\n",
    "pfda"
   ]
  },
  {
   "cell_type": "code",
   "execution_count": null,
   "metadata": {},
   "outputs": [],
   "source": [
    "pfba = get_import_data(\n",
    "    Path('~/Desktop/tofile/pfas-migrations/PFBA MIGRATION TEMPLATE FOR ANDY SHAPIRO_MT draft.xlsx').expanduser(), \n",
    "    \"Sheet1\", \n",
    "    \"E2\", \n",
    "    studies_rng=[\"A3:A10\",\"A17:A25\"], \n",
    "    viz_rng=[\"C2:C36\", \"C41:C42\", \"C47:C47\"]\n",
    ")\n",
    "pfba"
   ]
  },
  {
   "cell_type": "code",
   "execution_count": null,
   "metadata": {},
   "outputs": [],
   "source": [
    "pfhxs = get_import_data(\n",
    "    Path('~/Desktop/tofile/pfas-migrations/HAWC Migration.xlsx').expanduser(), \n",
    "    \"Sheet1\", \n",
    "    \"E2\", \n",
    "    studies_rng=[\"A2:A206\"], \n",
    "    viz_rng=[\"C2:C25\", \"C28:C31\", \"C33:C40\"]\n",
    ")\n",
    "pfhxs"
   ]
  },
  {
   "cell_type": "markdown",
   "metadata": {},
   "source": [
    "### Testing methodology post-data clone.\n",
    "\n",
    "#### Animal bioassay + bmd + risk of bias\n",
    "\n",
    "Compared Loveless, 2009, with original PFAS and the PFHxA dataset. This was chosen as an appropriate study because it contained risk of bias, generational animal-groups, and benchmark dose model.\n",
    "\n",
    "Multigen relationships here: ` PFHxA (2018) / Loveless, 2009, 2850369 / 1-Generation Reproductive /`\n",
    "\n",
    "BMD modeling was available here: `Loveless, 2009 / 14-Day Developmental / F1 Combined Crl:CD(SD) Rats / Body Weight / BMD session`\n",
    "\n",
    "To assert that independence between two assesments, I deleted the original PFAS study to confirm that everything was still available and plotted correctly in the PFHxA dataset.\n",
    "\n",
    "I also checked an `AnimalGropup.sibling` relationship, which required an additional fix.\n",
    "\n",
    "Parents were specificallly reviewed in AnimalGroups because they contain the only manytomany issue\n",
    "\n",
    "####  Epi \n",
    "\n",
    "Evaluated the following representative example in PFAS and PFHxS:\n",
    "\n",
    "`PFAS (2018) / Meng, 2018 / DNBC (1996-2002), Denmark, 3535 mother-infant pairs / Preterm Birth /`\n",
    "\n",
    "The following m2m checks were made:\n",
    "\n",
    "- StudyPopulation.countries\n",
    "- StudyPopulation.criteria\n",
    "\n",
    "\n",
    "To check adjustment factors:\n",
    "\n",
    "`PFAS (2018) / Meng, 2018 / DNBC (1996-2002), Denmark, 3535 mother-infant pairs / Birth Weight / Birth Weight PFDA (Log2) (Continuous) - Girls /`\n",
    "\n",
    "- Result.adjustment_factors\n",
    "\n",
    "\n",
    "To check result tags:\n",
    "\n",
    "`PFAS (2018) / Meng, 2018 / DNBC (1996-2002), Denmark, 3535 mother-infant pairs / Gestation Length / PFDA Gestation Length (Log2) (Continuous) - Boys /`\n",
    "\n",
    "- Result.resulttags\n",
    "\n",
    "To compare multi ethnicities, use this comparison in PFAS and PFNA:\n",
    "\n",
    "`PFAS (2018) / Lin, 2012, 1332458 / Young Taiwanese Cardiovascular Cohort Study (2006-2008), Taiwan, 511 12-30 year olds (214 men, 337 women) / PFNA (tertiles)- girls age 12-19 / T3 (>90th) /`\n",
    "\n",
    "- Group.ethnicities\n",
    "\n",
    "The outcome based group design was not evalulated in detail; only one was available iwth incomplete extraction\n",
    "\n",
    "`PFAS (2018) / Antignac, 2013, 2970367 / x /`\n",
    "\n",
    "#### invitro\n",
    "\n",
    "Compare `PFAS (2018) / Nobels, 2010, 2023785 / Multiple endpoint bacterial reporter assay / endpoint1`\n",
    "\n",
    "The only invitro endpoint available. Copied from PFAS to PFNA.\n",
    "\n",
    "To assert assessment independence, deleted original PFAS study.\n",
    "\n",
    "####  visuals\n",
    "\n",
    "Visual inspection of random charts and graphs.\n",
    "\n",
    "####  lit\n",
    "\n",
    "- I renamed a literature tag in PFAS to ensure it didn't persist in other assessments."
   ]
  }
 ],
 "metadata": {
  "kernelspec": {
   "display_name": "Python 3",
   "language": "python",
   "name": "python3"
  },
  "language_info": {
   "codemirror_mode": {
    "name": "ipython",
    "version": 3
   },
   "file_extension": ".py",
   "mimetype": "text/x-python",
   "name": "python",
   "nbconvert_exporter": "python",
   "pygments_lexer": "ipython3",
   "version": "3.6.5"
  }
 },
 "nbformat": 4,
 "nbformat_minor": 2
}
